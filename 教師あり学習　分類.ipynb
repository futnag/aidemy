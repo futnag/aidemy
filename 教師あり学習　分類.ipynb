{
 "cells": [
  {
   "cell_type": "code",
   "execution_count": null,
   "metadata": {},
   "outputs": [],
   "source": [
    "# モジュールのimport\n",
    "from sklearn.datasets import make_classification\n",
    "# プロット用モジュール\n",
    "import matplotlib.pyplot as plt\n",
    "import matplotlib\n",
    "\n",
    "# データX, ラベルyを生成\n",
    "# 分類に適したデータを作成するには、scikit-learn.datasetsモジュールの make_classification() 関数を使います。\n",
    "\n",
    "# n_samples\n",
    "#       用意するデータの個数\n",
    "# n_classes\n",
    "#       クラス数。指定しないと値は2になります\n",
    "# n_features\n",
    "#       データの特徴量の個数\n",
    "# n_redundant\n",
    "#       分類に不要な特徴量（余分な特徴量）の個数\n",
    "# random_state\n",
    "#       乱数のシード（乱数のパターンを決定する要素）\n",
    "\n",
    "X, y = make_classification(n_samples=50, n_classes=2, n_features=2, n_redundant=0, random_state=0)\n",
    "\n",
    "\n",
    "# データの色付け、プロット\n",
    "plt.scatter(X[:, 0], X[:, 1], c=y, marker=\".\",\n",
    "            cmap=matplotlib.cm.get_cmap(name=\"bwr\"), alpha=0.7)\n",
    "plt.grid(True)\n",
    "plt.plot()\n",
    "plt.show()"
   ]
  },
  {
   "cell_type": "code",
   "execution_count": null,
   "metadata": {},
   "outputs": [],
   "source": [
    "#  モジュールのインポート\n",
    "# モデルごとに別のモジュールを参照する\n",
    "from sklearn.linear_model import LogisticRegression\n",
    "from sklearn.model_selection import train_test_split\n",
    "from sklearn.datasets import make_classification\n",
    "\n",
    "# データの生成\n",
    "X, y = make_classification(n_samples=100, n_features=2, n_redundant=0, random_state=42)\n",
    "# データを学習に使う分と評価の分に分ける\n",
    "train_X, test_X, train_y, test_y = train_test_split(X, y, random_state=42)\n",
    "\n",
    "# モデルの構築\n",
    "model = LogisticRegression(random_state=42)\n",
    "# モデルの学習\n",
    "model.fit(train_X, train_y)\n",
    "# モデルによるデータの予測\n",
    "pred_y = model.predict(test_X)\n",
    "\n",
    "# モデルの正解率\n",
    "# 正解率は (モデルの予測した分類と実際の分類が一致したデータの数) ÷ (データの総数) で算出される\n",
    "print(model.score(test_X, test_y))\n",
    "print(model.score(test_X, pred_y))"
   ]
  },
  {
   "cell_type": "code",
   "execution_count": null,
   "metadata": {},
   "outputs": [],
   "source": [
    "ロジスティック回帰\n",
    "線形分離可能なデータの境界線を見つける\n",
    "境界線は直線である\n",
    "データがクラスに分類される確率も計算できる\n"
   ]
  },
  {
   "cell_type": "code",
   "execution_count": null,
   "metadata": {},
   "outputs": [],
   "source": [
    "# パッケージをインポート\n",
    "import numpy as np\n",
    "import matplotlib\n",
    "import matplotlib.pyplot as plt\n",
    "from sklearn.linear_model import LogisticRegression\n",
    "from sklearn.model_selection import train_test_split\n",
    "from sklearn.datasets import make_classification\n",
    "# ページ上で直接グラフが見られるようにするおまじない\n",
    "\n",
    "# データの生成\n",
    "X, y = make_classification(n_samples=100, n_features=2,\n",
    "                           n_redundant=0, random_state=42)\n",
    "train_X, test_X, train_y, test_y = train_test_split(X, y, random_state=42)\n",
    "\n",
    "# モデルの構築\n",
    "model = LogisticRegression()\n",
    "\n",
    "# train_Xとtrain_yを使ってモデルに学習させる\n",
    "model.fit(train_X, train_y)\n",
    "# test_Xに対するモデルの分類予測結果\n",
    "pred_y = model.predict(test_X)\n",
    "\n",
    "\n",
    "# 生成したデータをプロット\n",
    "plt.scatter(X[:, 0], X[:, 1], c=y, marker=\".\",\n",
    "            cmap=matplotlib.cm.get_cmap(name=\"bwr\"), alpha=0.7)\n",
    "\n",
    "# 学習して導出した識別境界線をプロット\n",
    "Xi = np.linspace(-10, 10)\n",
    "Y = -model.coef_[0][0] / model.coef_[0][1] * \\\n",
    "    Xi - model.intercept_ / model.coef_[0][1]\n",
    "plt.plot(Xi, Y)\n",
    "\n",
    "# グラフのスケールを調整\n",
    "plt.xlim(min(X[:, 0]) - 0.5, max(X[:, 0]) + 0.5)\n",
    "plt.ylim(min(X[:, 1]) - 0.5, max(X[:, 1]) + 0.5)\n",
    "plt.axes().set_aspect(\"equal\", \"datalim\")\n",
    "# グラフにタイトルを設定する\n",
    "plt.title(\"classification data using LogisticRegression\")\n",
    "# x軸、y軸それぞれに名前を設定する\n",
    "plt.xlabel(\"x-axis\")\n",
    "plt.ylabel(\"y-axis\")\n",
    "plt.show()"
   ]
  },
  {
   "cell_type": "code",
   "execution_count": null,
   "metadata": {},
   "outputs": [],
   "source": []
  },
  {
   "cell_type": "code",
   "execution_count": null,
   "metadata": {},
   "outputs": [],
   "source": [
    "線形SVM(サポートベクターマシン)\n",
    "ロジスティック回帰と同様、データの境界線を見つけることでデータの分類を行う\n",
    "サポートベクターとは、クラスごとの境界線に最も近いデータと境界線の距離のこと(厳密には距離を表すベクトルのことです)\n",
    "このサポートベクターの距離の総和を最大化しようとする(この問題をマージン最大化と言います。)ことによって境界線を決定する手法がSVMです\n",
    "SVMは分類する境界線が二クラス間の最も離れた場所に引かれるためロジスティック回帰と比べて一般化されやすく、\n",
    "データの分類予測が向上する傾向が見られます。\n",
    "また、境界線の決定にはサポートベクターのみを考えればよいため、筋道がたちやすいのも特徴です。\n",
    "\n",
    "欠点としてデータ量が増えると計算量が増えてしまうため、他の手法に比べ学習や予測が遅くなる傾向があるという点が挙げられます。"
   ]
  },
  {
   "cell_type": "code",
   "execution_count": 3,
   "metadata": {},
   "outputs": [
    {
     "name": "stdout",
     "output_type": "stream",
     "text": [
      "1.0\n"
     ]
    },
    {
     "name": "stderr",
     "output_type": "stream",
     "text": [
      "/Users/nagatafutoshi/anaconda/lib/python3.6/site-packages/matplotlib/cbook/deprecation.py:106: MatplotlibDeprecationWarning: Adding an axes using the same arguments as a previous axes currently reuses the earlier instance.  In a future version, a new instance will always be created and returned.  Meanwhile, this warning can be suppressed, and the future behavior ensured, by passing a unique label to each axes instance.\n",
      "  warnings.warn(message, mplDeprecation, stacklevel=1)\n"
     ]
    },
    {
     "data": {
      "image/png": "[encoded data removed]",
      "text/plain": [
       "<matplotlib.figure.Figure at 0x1a1dd79898>"
      ]
     },
     "metadata": {},
     "output_type": "display_data"
    }
   ],
   "source": [
    "# パッケージをインポート\n",
    "import numpy as np\n",
    "import matplotlib\n",
    "import matplotlib.pyplot as plt\n",
    "from sklearn.svm import LinearSVC\n",
    "from sklearn.model_selection import train_test_split\n",
    "from sklearn.datasets import make_classification\n",
    "\n",
    "# データの生成\n",
    "X, y = make_classification(n_samples=100, n_features=2,\n",
    "                           n_redundant=0, random_state=42)\n",
    "train_X, test_X, train_y, test_y = train_test_split(X, y, random_state=42)\n",
    "\n",
    "# モデルの構築\n",
    "model = LinearSVC()\n",
    "\n",
    "# train_Xとtrain_yを使ってモデルに学習させる\n",
    "model.fit(train_X, train_y)\n",
    "\n",
    "# test_Xとtest_yを用いたモデルの正解率を出力\n",
    "print(model.score(test_X, test_y))\n",
    "\n",
    "# 生成したデータをプロット\n",
    "plt.scatter(X[:, 0], X[:, 1], c=y, marker=\".\",\n",
    "            cmap=matplotlib.cm.get_cmap(name=\"bwr\"), alpha=0.7)\n",
    "\n",
    "# 学習して導出した識別境界線をプロット\n",
    "Xi = np.linspace(-10, 10)\n",
    "Y = -model.coef_[0][0] / model.coef_[0][1] * Xi - model.intercept_ / model.coef_[0][1]\n",
    "plt.plot(Xi, Y)\n",
    "\n",
    "# グラフのスケールを調整\n",
    "plt.xlim(min(X[:, 0]) - 0.5, max(X[:, 0]) + 0.5)\n",
    "plt.ylim(min(X[:, 1]) - 0.5, max(X[:, 1]) + 0.5)\n",
    "plt.axes().set_aspect(\"equal\", \"datalim\")\n",
    "# グラフにタイトルを設定する\n",
    "plt.title(\"classification data using LinearSVC\")\n",
    "# x軸、y軸それぞれに名前を設定する\n",
    "plt.xlabel(\"x-axis\")\n",
    "plt.ylabel(\"y-axis\")\n",
    "plt.show()"
   ]
  },
  {
   "cell_type": "code",
   "execution_count": null,
   "metadata": {},
   "outputs": [],
   "source": [
    "非線形SVM\n",
    "カーネル関数と呼ばれる変換式に従ってデータを操作することで、データが線形分離可能な状態となる場合があります。\n",
    "そのような処理を行ってくれるモデルがSVMには存在します。\n",
    "カーネル関数による操作はその操作の結果を知らずに分類を行うことが可能なのでカーネルトリックとも呼ばれます。"
   ]
  },
  {
   "cell_type": "code",
   "execution_count": 6,
   "metadata": {},
   "outputs": [
    {
     "name": "stdout",
     "output_type": "stream",
     "text": [
      "非線形SVM: 0.976\n",
      "線形SVM: 0.528\n"
     ]
    }
   ],
   "source": [
    "from sklearn.svm import LinearSVC\n",
    "from sklearn.svm import SVC\n",
    "from sklearn.model_selection import train_test_split\n",
    "from sklearn.datasets import make_gaussian_quantiles\n",
    "\n",
    "# データの生成\n",
    "X, y = make_gaussian_quantiles(\n",
    "    n_samples=1000, n_classes=2, n_features=2, random_state=42)\n",
    "train_X, test_X, train_y, test_y = train_test_split(X, y, random_state=42)\n",
    "\n",
    "# 以下にコードを記述してください\n",
    "# モデルの構築\n",
    "model1 = SVC()\n",
    "model2 = LinearSVC()\n",
    "\n",
    "# train_Xとtrain_yを使ってモデルに学習させる\n",
    "model1.fit(train_X, train_y)\n",
    "model2.fit(train_X, train_y)\n",
    "\n",
    "\n",
    "# 正解率の算出\n",
    "print(\"非線形SVM: {}\".format(model1.score(test_X, test_y)))\n",
    "print(\"線形SVM: {}\".format(model2.score(test_X, test_y)))"
   ]
  },
  {
   "cell_type": "code",
   "execution_count": null,
   "metadata": {},
   "outputs": [],
   "source": [
    "決定木\n",
    "\n",
    "決定木はこれまで紹介したロジスティック回帰やSVMとは違い、データの要素（説明変数）の一つ一つに着目し、その要素内でのある値を境にデータを分割していくことでデータの属するクラスを決定しようとする手法です。\n",
    "\n",
    "決定木では説明変数の一つ一つが目的変数にどのくらいの影響を与えているのかを見ることができます。\n",
    "分割を繰り返すことで枝分かれしていきますが、先に分割される変数ほど影響力が大きいと捉えることができます。\n",
    "\n",
    "欠点は線形分離可能なデータは苦手であること(例えば２次元データでは境界線が斜めに引けない)と、学習が教師データに寄りすぎる(汎化されない)ことです。"
   ]
  },
  {
   "cell_type": "code",
   "execution_count": 7,
   "metadata": {},
   "outputs": [
    {
     "name": "stdout",
     "output_type": "stream",
     "text": [
      "0.909404234367\n"
     ]
    }
   ],
   "source": [
    "# 必要なパッケージをインポート\n",
    "import requests\n",
    "import zipfile\n",
    "from io import StringIO\n",
    "import io\n",
    "import pandas as pd\n",
    "# データの前処理に必要なパッケージのインポート\n",
    "from sklearn.model_selection import train_test_split\n",
    "from sklearn import preprocessing\n",
    "\n",
    "# url\n",
    "mush_data_url = \"http://archive.ics.uci.edu/ml/machine-learning-databases/mushroom/agaricus-lepiota.data\"\n",
    "s = requests.get(mush_data_url).content\n",
    "\n",
    "# データの形式変換\n",
    "mush_data = pd.read_csv(io.StringIO(s.decode(\"utf-8\")), header=None)\n",
    "\n",
    "# データに名前をつける(データを扱いやすくするため)\n",
    "mush_data.columns = [\"classes\", \"cap_shape\", \"cap_surface\", \"cap_color\", \"odor\", \"bruises\",\n",
    "                     \"gill_attachment\", \"gill_spacing\", \"gill_size\", \"gill_color\", \"stalk_shape\",\n",
    "                     \"stalk_root\", \"stalk_surface_above_ring\", \"stalk_surface_below_ring\",\n",
    "                     \"stalk_color_above_ring\", \"stalk_color_below_ring\", \"veil_type\", \"veil_color\",\n",
    "                     \"ring_number\", \"ring_type\", \"spore_print_color\", \"population\", \"habitat\"]\n",
    "\n",
    "# カテゴリー変数(色の種類など数字の大小が決められないもの)をダミー特徴量(yes or no)として変換する\n",
    "mush_data_dummy = pd.get_dummies(\n",
    "    mush_data[[\"gill_color\", \"gill_attachment\", \"odor\", \"cap_color\"]])\n",
    "\n",
    "# 目的変数：flg立てをする\n",
    "mush_data_dummy[\"flg\"] = mush_data[\"classes\"].map(\n",
    "    lambda x: 1 if x == \"p\" else 0)\n",
    "\n",
    "# 説明変数と目的変数\n",
    "X = mush_data_dummy.drop(\"flg\", axis=1)\n",
    "Y = mush_data_dummy[\"flg\"]\n",
    "\n",
    "# 学習データとテストデータに分ける\n",
    "train_X, test_X, train_y, test_y = train_test_split(X,Y, random_state=42)\n",
    "\n",
    "# 以下にコードを記述してください。\n",
    "# モデルの読み込み\n",
    "from sklearn.tree import DecisionTreeClassifier\n",
    "\n",
    "# モデルの構築\n",
    "model = DecisionTreeClassifier()\n",
    "\n",
    "# モデルの学習\n",
    "model.fit(train_X, train_y)\n",
    "\n",
    "# 正解率を算出\n",
    "print(model.score(test_X, test_y))"
   ]
  },
  {
   "cell_type": "code",
   "execution_count": null,
   "metadata": {},
   "outputs": [],
   "source": [
    "ランダムフォレスト\n",
    "\n",
    "決定木の簡易版を複数作り、分類の結果を多数決で決める手法です。 \n",
    "複数の簡易分類器を一つの分類器にまとめて学習させる、 アンサンブル学習 と呼ばれる学習の種類の一手法でもあります。\n",
    "\n",
    "決定木では使用する説明変数は全て使用していたのに対し、ランダムフォレストの一つ一つの決定木はランダムに決められた少数の説明変数だけを用いてデータの属するクラスを決定しようとします。 \n",
    "その上で複数の簡易決定木から出力されるクラスのうちで最も多かったクラスを結果として出力します。\n",
    "\n",
    "ランダムフォレストの特徴は決定木と同じように、線形分離可能でない複雑な識別範囲を持つデータ集合の分類が可能な点に加え、複数の分類器を通して多数決により結果を出力するため、外れ値によって予測結果が左右されにくいことが挙げられます。\n",
    "\n",
    "欠点としては決定木と同じように説明変数の数に対してデータの数が少ないと二分木の分割ができず、予測の精度が下がってしまう点が挙げられます。\n"
   ]
  },
  {
   "cell_type": "code",
   "execution_count": 8,
   "metadata": {},
   "outputs": [
    {
     "name": "stdout",
     "output_type": "stream",
     "text": [
      "0.910881339242\n"
     ]
    }
   ],
   "source": [
    "# きのこデータの取得\n",
    "# 必要なパッケージをインポート\n",
    "import requests\n",
    "import zipfile\n",
    "from io import StringIO\n",
    "import io\n",
    "import pandas as pd\n",
    "# データの前処理に必要なパッケージのインポート\n",
    "from sklearn.model_selection import train_test_split\n",
    "from sklearn import preprocessing\n",
    "\n",
    "# url\n",
    "mush_data_url = \"http://archive.ics.uci.edu/ml/machine-learning-databases/mushroom/agaricus-lepiota.data\"\n",
    "s = requests.get(mush_data_url).content\n",
    "\n",
    "# データの形式変換\n",
    "mush_data = pd.read_csv(io.StringIO(s.decode(\"utf-8\")), header=None)\n",
    "\n",
    "# データに名前をつける(データを扱いやすくするため)\n",
    "mush_data.columns = [\"classes\", \"cap_shape\", \"cap_surface\", \"cap_color\", \"odor\", \"bruises\",\n",
    "                     \"gill_attachment\", \"gill_spacing\", \"gill_size\", \"gill_color\", \"stalk_shape\",\n",
    "                     \"stalk_root\", \"stalk_surface_above_ring\", \"stalk_surface_below_ring\",\n",
    "                     \"stalk_color_above_ring\", \"stalk_color_below_ring\", \"veil_type\", \"veil_color\",\n",
    "                     \"ring_number\", \"ring_type\", \"spore_print_color\", \"population\", \"habitat\"]\n",
    "\n",
    "# カテゴリー変数(色の種類など数字の大小が決められないもの)をダミー特徴量(yes or no)として変換する\n",
    "mush_data_dummy = pd.get_dummies(\n",
    "    mush_data[[\"gill_color\", \"gill_attachment\", \"odor\", \"cap_color\"]])\n",
    "# 目的変数：flg立てをする\n",
    "mush_data_dummy[\"flg\"] = mush_data[\"classes\"].map(\n",
    "    lambda x: 1 if x == \"p\" else 0)\n",
    "\n",
    "# 説明変数と目的変数\n",
    "X = mush_data_dummy.drop(\"flg\", axis=1)\n",
    "Y = mush_data_dummy[\"flg\"]\n",
    "\n",
    "# 学習データとテストデータに分ける\n",
    "train_X, test_X, train_y, test_y = train_test_split(X,Y, random_state=42)\n",
    "\n",
    "# 以下にコードを記述してください。\n",
    "# モデルの読み込み\n",
    "from sklearn.ensemble import RandomForestClassifier\n",
    "\n",
    "# モデルの構築\n",
    "model = RandomForestClassifier()\n",
    "\n",
    "# モデルの学習\n",
    "model.fit(train_X,train_y)\n",
    "\n",
    "# 正解率を算出\n",
    "print(model.score(test_X, test_y))"
   ]
  },
  {
   "cell_type": "code",
   "execution_count": null,
   "metadata": {},
   "outputs": [],
   "source": [
    "K-NN(k-近傍法)\n",
    "\n",
    "予測をするデータと類似したデータをいくつか見つけ、多数決により分類結果を決める手法です。 怠惰学習と呼ばれる学習の種類の一手法であり、 学習コスト（学習にかかる計算量）が0である ことが特徴です。\n",
    "\n",
    "これまで紹介してきた手法とは違い、k-NNは教師データから学習するわけではなく、 予測時に教師データを直接参照 してラベルを予測します。 結果の予測を行う際に①教師データを予測に用いるデータとの類似度で並べ直し、②分類器に設定されたk個分のデータを類似度の高い順に参照し、③参照された教師データが属するクラスのなかで最も多かったものを予測結果として出力するのがこのk-NNという手法です。\n",
    "\n",
    "k-NNの特徴としては、前述の通り学習コストが0であること、アルゴリズムとしては比較的単純なものなのですが高い予測精度がでやすいこと、複雑な形の境界線も表現しやすいことが挙げられます。 欠点としては分類器に指定する自然数kの個数を増やしすぎると識別範囲の平均化が進み予測精度が下がってしまう点や、予測時に毎回計算を行うため教師データや予測データの量が増えると計算量が増えてしまい、低速なアルゴリズムとなってしまう点が挙げられます。\n",
    "\n"
   ]
  },
  {
   "cell_type": "code",
   "execution_count": 12,
   "metadata": {},
   "outputs": [
    {
     "name": "stdout",
     "output_type": "stream",
     "text": [
      "0.903988183161\n"
     ]
    }
   ],
   "source": [
    "# きのこデータの取得\n",
    "import requests\n",
    "import zipfile\n",
    "from io import StringIO\n",
    "import io\n",
    "import pandas as pd\n",
    "from sklearn.model_selection import train_test_split\n",
    "from sklearn import preprocessing\n",
    "\n",
    "# url\n",
    "mush_data_url = \"http://archive.ics.uci.edu/ml/machine-learning-databases/mushroom/agaricus-lepiota.data\"\n",
    "s = requests.get(mush_data_url).content\n",
    "\n",
    "# データの形式変換\n",
    "mush_data = pd.read_csv(io.StringIO(s.decode(\"utf-8\")), header=None)\n",
    "\n",
    "# データに名前をつける(データを扱いやすくするため)\n",
    "mush_data.columns = [\"classes\", \"cap_shape\", \"cap_surface\", \"cap_color\", \"odor\", \"bruises\",\n",
    "                     \"gill_attachment\", \"gill_spacing\", \"gill_size\", \"gill_color\", \"stalk_shape\",\n",
    "                     \"stalk_root\", \"stalk_surface_above_ring\", \"stalk_surface_below_ring\",\n",
    "                     \"stalk_color_above_ring\", \"stalk_color_below_ring\", \"veil_type\", \"veil_color\",\n",
    "                     \"ring_number\", \"ring_type\", \"spore_print_color\", \"population\", \"habitat\"]\n",
    "\n",
    "# 参考（カテゴリー変数をダミー特徴量として変換する方法）\n",
    "mush_data_dummy = pd.get_dummies(\n",
    "    mush_data[[\"gill_color\", \"gill_attachment\", \"odor\", \"cap_color\"]])\n",
    "# 目的変数：flg立てをする\n",
    "mush_data_dummy[\"flg\"] = mush_data[\"classes\"].map(\n",
    "    lambda x: 1 if x == \"p\" else 0)\n",
    "\n",
    "# 説明変数と目的変数\n",
    "X = mush_data_dummy.drop(\"flg\", axis=1)\n",
    "Y = mush_data_dummy[\"flg\"]\n",
    "\n",
    "# 学習データとテストデータに分ける\n",
    "train_X, test_X, train_y, test_y = train_test_split(X,Y, random_state=42)\n",
    "\n",
    "# 以下にコードを記述してください\n",
    "# モデルの読み込み\n",
    "from sklearn.neighbors import KNeighborsClassifier\n",
    "\n",
    "# モデルの構築\n",
    "model = KNeighborsClassifier()\n",
    "\n",
    "# モデルの学習\n",
    "model.fit(train_X, train_y)\n",
    "\n",
    "# 正解率の表示\n",
    "print(model.score(test_X, test_y))\n"
   ]
  }
 ],
 "metadata": {
  "kernelspec": {
   "display_name": "Python 3",
   "language": "python",
   "name": "python3"
  },
  "language_info": {
   "codemirror_mode": {
    "name": "ipython",
    "version": 3
   },
   "file_extension": ".py",
   "mimetype": "text/x-python",
   "name": "python",
   "nbconvert_exporter": "python",
   "pygments_lexer": "ipython3",
   "version": "3.6.4"
  }
 },
 "nbformat": 4,
 "nbformat_minor": 2
}
