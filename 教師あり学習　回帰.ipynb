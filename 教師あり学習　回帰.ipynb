{
 "cells": [
  {
   "cell_type": "code",
   "execution_count": 1,
   "metadata": {},
   "outputs": [],
   "source": [
    "from sklearn.linear_model import LinearRegression\n",
    "from sklearn.datasets import load_boston\n",
    "from sklearn.model_selection import train_test_split"
   ]
  },
  {
   "cell_type": "code",
   "execution_count": 2,
   "metadata": {},
   "outputs": [],
   "source": [
    "data = load_boston()\n",
    "train_X, test_X, train_y, test_y = train_test_split(data.data, data.target, random_state=42)"
   ]
  },
  {
   "cell_type": "code",
   "execution_count": 5,
   "metadata": {},
   "outputs": [
    {
     "name": "stdout",
     "output_type": "stream",
     "text": [
      "[ 28.84435256  36.01528645  15.09049798  25.23939437  18.87034833\n",
      "  23.21842749  17.59151854  14.29798014  23.05832558  20.62071271\n",
      "  24.79141889  18.66756318  -7.00821616  21.83986892  19.21327964\n",
      "  26.27933286  20.5475019    5.65228818  40.41962746  17.63739357\n",
      "  27.32663541  30.05426616  11.13958579  24.1141802   17.87975122\n",
      "  15.79393109  22.95810173  14.19824493  22.27171161  19.24893029\n",
      "  22.27637518  25.24589065  25.6906829   17.99006013  16.69109685\n",
      "  17.10092877  31.19877823  20.17867405  23.72051289  24.79532938\n",
      "  13.94447612  32.00271322  42.53357742  17.45043617  27.15727227\n",
      "  17.07463384  13.88645803  26.06800047  20.36819247  29.98424831\n",
      "  21.35765004  34.32583526  15.87960152  26.17795749  39.5103807\n",
      "  22.8404951   18.9447771   32.69008797  25.02268835  12.90262737\n",
      "  22.75348627  30.5313448   31.61070012  15.91080308  20.50212053\n",
      "  16.51289219  20.49698328  26.0110717   30.64001397  11.37170957\n",
      "  20.54083102  27.56652062  10.82523639  15.96338287  23.88288041\n",
      "   5.66984803  21.48015023  41.27781773  18.56162268   9.08890294\n",
      "  20.98515871  13.04945023  20.99457918   9.34045272  23.14264664\n",
      "  31.80046148  19.07433059  25.59463611  29.15440197  20.17616379\n",
      "  25.60064936   5.17233536  20.17235768  15.0828148   12.87873208\n",
      "  20.8119479   24.68954496  -0.8194079   13.2855317   15.57683924\n",
      "  22.21961785  24.58826828  10.7703736   19.50429244  23.23655369\n",
      "  11.71641299  18.37040345  25.43945428  20.89013226  24.08544601\n",
      "   7.30574896  19.13300297  21.93454316  27.41661923  32.50645525\n",
      "  14.83063812  35.05374141  12.84848936  20.83433837  28.42192721\n",
      "  15.6595731   24.67202932   3.26361631  23.80651567  25.73734566\n",
      "  23.05296974  24.72911197]\n",
      "0.683955724318\n"
     ]
    }
   ],
   "source": [
    "model = LinearRegression()\n",
    "model.fit(train_X, train_y)\n",
    "\n",
    "pred_y = model.predict(test_X)\n",
    "score = model.score(test_X, test_y)\n",
    "print(pred_y)\n",
    "print(score)"
   ]
  },
  {
   "cell_type": "code",
   "execution_count": null,
   "metadata": {},
   "outputs": [],
   "source": [
    "# サンプルコード\n",
    "# 必要なモジュールのインポートします。\n",
    "import request\n",
    "from sklearn.linear_model import LinearRegression\n",
    "\n",
    "# 次に学習させたいデータの読み込みを行います。詳しいコードはこの問題にあるコードを参照ください。以下のようにtrain_X, test_X, train_y, test_yという4つのファイルに分けてデータがロードします。\n",
    "train_X, test_X, train_y, test_y = (データの情報)\n",
    "\n",
    "# 学習器の構築を行います。\n",
    "# 学習器とは、学習モデル(学習方法)に沿って学習を行うように設計されたオブジェクトのことです。scikit-learnのLinearRegressionが学習して予測データを返してくれるのです。このLinearRegressionの詳細は次以降のセッションで扱います。\n",
    "model = LinearRegression()\n",
    "\n",
    "# 教師データ(学習を行うための既存データ)を用いて学習器に学習させます。\n",
    "model.fit(train_X, train_y)\n",
    "\n",
    "# 教師データとは別に用意したテスト用データを用いて学習器に予測させます。\n",
    "pred_y = model.predict(test_X)\n",
    "\n",
    "# 学習器の性能を確認するため決定係数という評価値を算出します。\n",
    "score = model.score(test_X, test_y)\n"
   ]
  },
  {
   "cell_type": "code",
   "execution_count": null,
   "metadata": {},
   "outputs": [],
   "source": [
    "線形単回帰"
   ]
  },
  {
   "cell_type": "code",
   "execution_count": 8,
   "metadata": {},
   "outputs": [],
   "source": [
    "from sklearn.datasets import make_regression"
   ]
  },
  {
   "cell_type": "code",
   "execution_count": 9,
   "metadata": {},
   "outputs": [],
   "source": [
    "X, y = make_regression(n_samples=100, n_features=1, n_targets=1, noise=5.0, random_state=42)\n",
    "train_X, test_X, train_y, test_y = train_test_split(X, y, random_state=42)"
   ]
  },
  {
   "cell_type": "code",
   "execution_count": 11,
   "metadata": {},
   "outputs": [
    {
     "name": "stdout",
     "output_type": "stream",
     "text": [
      "0.981409139001\n"
     ]
    }
   ],
   "source": [
    "model = LinearRegression()\n",
    "model.fit(train_X, train_y)\n",
    "\n",
    "print(model.score(test_X, test_y))"
   ]
  },
  {
   "cell_type": "code",
   "execution_count": null,
   "metadata": {},
   "outputs": [],
   "source": []
  },
  {
   "cell_type": "code",
   "execution_count": null,
   "metadata": {},
   "outputs": [],
   "source": [
    "線形重回帰\n",
    "予測したいデータが1つに対し、予測に用いるデータが複数個 となる回帰分析"
   ]
  },
  {
   "cell_type": "code",
   "execution_count": 12,
   "metadata": {},
   "outputs": [],
   "source": [
    "X, y = make_regression(n_samples=100, n_features=10, n_informative=3, n_targets=1, noise=5.0, random_state=42)\n",
    "train_X, test_X, train_y, test_y = train_test_split(X, y, random_state=42)"
   ]
  },
  {
   "cell_type": "code",
   "execution_count": 17,
   "metadata": {},
   "outputs": [
    {
     "name": "stdout",
     "output_type": "stream",
     "text": [
      "1.0\n"
     ]
    }
   ],
   "source": [
    "model = LinearRegression()\n",
    "model.fit(train_X, train_y)\n",
    "y_pred = model.predict(test_X)\n",
    "score = model.score(test_X, y_pred)\n",
    "print(score)"
   ]
  },
  {
   "cell_type": "code",
   "execution_count": null,
   "metadata": {},
   "outputs": [],
   "source": [
    "モデルの汎化\n",
    "モデルによる予測を一般化する\n",
    "汎化手法\n",
    "正則化\n",
    "モデルに対し、モデルが推定したデータ同士の関係性の複雑さに対してペナルティを加えることによってモデルが推定するデータ同士の関係性を一般化する\n",
    "オッカムの剃刀的なもの\n",
    "\n",
    "・L1正則化\n",
    "予測に用いられるデータのうち、「予測したいデータに対する寄与が薄いデータ」や「他の予測に用いられるデータとの関係性が強いデータ」の正則化に向いており、これらを回帰分析の際に結果に対する寄与が小さくなるように係数を小さくする方法。\n",
    "データとして余分な情報がたくさん存在するようなデータ の回帰分析を行う際に重宝する。\n",
    "\n",
    "・L2正則化\n",
    "予測に用いるデータの範囲を算出し、データの範囲を揃えるようにデータに対する係数を小さくすることによって回帰分析のモデルの一般化を図ろうとする方法。\n",
    "データの範囲とは、データが取りうる数値の範囲のことで、揃える場合は大抵は0から1の範囲になるように調整されます。\n",
    "データの範囲を揃えることによって同じ尺度で全てのデータの予測に対する寄与が比較可能になり、 滑らかなモデルを得やすい（汎化しやすい） という特徴があります。\n",
    "\n"
   ]
  },
  {
   "cell_type": "code",
   "execution_count": null,
   "metadata": {},
   "outputs": [],
   "source": []
  },
  {
   "cell_type": "code",
   "execution_count": 27,
   "metadata": {},
   "outputs": [],
   "source": [
    "# ラッソ回帰\n",
    "from sklearn.linear_model import Lasso"
   ]
  },
  {
   "cell_type": "code",
   "execution_count": 31,
   "metadata": {},
   "outputs": [],
   "source": [
    "X, y = make_regression(n_samples=100, n_features=100, n_informative=60, n_targets=1, random_state=42)\n",
    "train_X, test_X, train_y, test_y = train_test_split(X, y, random_state=42)"
   ]
  },
  {
   "cell_type": "code",
   "execution_count": 32,
   "metadata": {},
   "outputs": [
    {
     "name": "stdout",
     "output_type": "stream",
     "text": [
      "線形回帰:0.8479696702799854\n",
      "ラッソ回帰:0.967921092593941\n"
     ]
    }
   ],
   "source": [
    "# 線形回帰\n",
    "model = LinearRegression()\n",
    "model.fit(train_X, train_y)\n",
    "# test_X, test_yに対する決定係数を出力してください\n",
    "print(\"線形回帰:{}\".format(model.score(test_X, test_y)))\n",
    "\n",
    "# ラッソ回帰\n",
    "model = Lasso()\n",
    "model.fit(train_X, train_y)\n",
    "# test_X, test_yに対する決定係数を出力してください\n",
    "print(\"ラッソ回帰:{}\".format(model.score(test_X, test_y)))"
   ]
  },
  {
   "cell_type": "code",
   "execution_count": null,
   "metadata": {},
   "outputs": [],
   "source": []
  },
  {
   "cell_type": "code",
   "execution_count": 33,
   "metadata": {},
   "outputs": [],
   "source": [
    "# リッジ回帰\n",
    "from sklearn.linear_model import Ridge"
   ]
  },
  {
   "cell_type": "code",
   "execution_count": 34,
   "metadata": {},
   "outputs": [],
   "source": [
    "X, y = make_regression(n_samples=100, n_features=50, n_informative=50, n_targets=1, noise=100.0, random_state=42)\n",
    "train_X, test_X, train_y, test_y = train_test_split(X, y, random_state=42)"
   ]
  },
  {
   "cell_type": "code",
   "execution_count": 37,
   "metadata": {},
   "outputs": [
    {
     "name": "stdout",
     "output_type": "stream",
     "text": [
      "線形回帰：0.7802322835148348\n",
      "リッジ回帰：0.7807547182116583\n"
     ]
    }
   ],
   "source": [
    "# 線形回帰\n",
    "model = LinearRegression()\n",
    "model.fit(train_X, train_y)\n",
    "\n",
    "print(\"線形回帰：{}\".format(model.score(test_X, test_y)))\n",
    "\n",
    "\n",
    "# リッジ回帰\n",
    "model = Ridge()\n",
    "model.fit(train_X, train_y)\n",
    "\n",
    "print(\"リッジ回帰：{}\".format(model.score(test_X, test_y)))"
   ]
  },
  {
   "cell_type": "code",
   "execution_count": 38,
   "metadata": {},
   "outputs": [],
   "source": [
    "# ElasticNet回帰\n",
    "\n",
    "from sklearn.linear_model import ElasticNet"
   ]
  },
  {
   "cell_type": "code",
   "execution_count": 44,
   "metadata": {},
   "outputs": [
    {
     "name": "stdout",
     "output_type": "stream",
     "text": [
      "0.549580042726\n",
      "1.0\n"
     ]
    }
   ],
   "source": [
    "# l1_ratio => L1正則化項とL2正則化項との比率を指定できる(デフォルトは0.5)\n",
    "model = ElasticNet(l1_ratio=0.3)\n",
    "\n",
    "model.fit(train_X, train_y)\n",
    "\n",
    "print(model.score(test_X, test_y))\n",
    "\n",
    "pred_y = model.predict(test_X)\n",
    "print(model.score(test_X, pred_y))"
   ]
  },
  {
   "cell_type": "code",
   "execution_count": null,
   "metadata": {},
   "outputs": [],
   "source": []
  },
  {
   "cell_type": "code",
   "execution_count": null,
   "metadata": {},
   "outputs": [],
   "source": []
  },
  {
   "cell_type": "code",
   "execution_count": null,
   "metadata": {},
   "outputs": [],
   "source": []
  },
  {
   "cell_type": "code",
   "execution_count": null,
   "metadata": {},
   "outputs": [],
   "source": []
  }
 ],
 "metadata": {
  "kernelspec": {
   "display_name": "Python 3",
   "language": "python",
   "name": "python3"
  },
  "language_info": {
   "codemirror_mode": {
    "name": "ipython",
    "version": 3
   },
   "file_extension": ".py",
   "mimetype": "text/x-python",
   "name": "python",
   "nbconvert_exporter": "python",
   "pygments_lexer": "ipython3",
   "version": "3.6.4"
  }
 },
 "nbformat": 4,
 "nbformat_minor": 2
}
